{
  "nbformat": 4,
  "nbformat_minor": 0,
  "metadata": {
    "kernelspec": {
      "display_name": "Python 3",
      "language": "python",
      "name": "python3"
    },
    "language_info": {
      "codemirror_mode": {
        "name": "ipython",
        "version": 3
      },
      "file_extension": ".py",
      "mimetype": "text/x-python",
      "name": "python",
      "nbconvert_exporter": "python",
      "pygments_lexer": "ipython3",
      "version": "3.8.0"
    },
    "colab": {
      "name": "Copy of Final.ipynb",
      "provenance": []
    }
  },
  "cells": [
    {
      "cell_type": "markdown",
      "metadata": {
        "id": "28b9X5kaZAes",
        "colab_type": "text"
      },
      "source": [
        "# Final Exam\n",
        "\n",
        "[![Open In Colab](https://colab.research.google.com/assets/colab-badge.svg)](https://colab.research.google.com/github//afarbin/DATA1401-Spring-2020/blob/master/Exams/Final/Final.ipynb)"
      ]
    },
    {
      "cell_type": "markdown",
      "metadata": {
        "id": "gnL0_rv2ZAev",
        "colab_type": "text"
      },
      "source": [
        "Recall the drawing system from lecture 18:"
      ]
    },
    {
      "cell_type": "code",
      "metadata": {
        "id": "IYLEr24cZAex",
        "colab_type": "code",
        "colab": {}
      },
      "source": [
        "class Canvas:\n",
        "    def __init__(self, width, height):\n",
        "        self.width = width\n",
        "        self.height = height\n",
        "        self.data = [[' '] * width for i in range(height)]\n",
        "\n",
        "    def set_pixel(self, row, col, char='*'):\n",
        "        self.data[row][col] = char\n",
        "\n",
        "    def get_pixel(self, row, col):\n",
        "        return self.data[row][col]\n",
        "    \n",
        "    def h_line(self, x, y, w, **kargs):\n",
        "        for i in range(x,x+w):\n",
        "            self.set_pixel(i,y, **kargs)\n",
        "\n",
        "    def v_line(self, x, y, h, **kargs):\n",
        "        for i in range(y,y+h):\n",
        "            self.set_pixel(x,i, **kargs)\n",
        "            \n",
        "    def line(self, x1, y1, x2, y2, **kargs):\n",
        "        slope = (y2-y1) / (x2-x1)\n",
        "        for y in range(y1,y2):\n",
        "            x= int(slope * y)\n",
        "            self.set_pixel(x,y, **kargs)\n",
        "            \n",
        "    def display(self):\n",
        "        print(\"\\n\".join([\"\".join(row) for row in self.data]))"
      ],
      "execution_count": 0,
      "outputs": []
    },
    {
      "cell_type": "code",
      "metadata": {
        "id": "iyQRGn2JZAe5",
        "colab_type": "code",
        "colab": {}
      },
      "source": [
        "class Shape:\n",
        "    def __init__(self, name=\"\", **kwargs):\n",
        "        self.name=name\n",
        "        self.kwargs=kwargs\n",
        "    \n",
        "    def paint(self, canvas): pass\n",
        "\n",
        "    def __str__(self, **kwargs): pass\n",
        "\n",
        "class Rectangle(Shape):\n",
        "    def __init__(self, x, y, w, h, **kwargs):\n",
        "        Shape.__init__(self, **kwargs)\n",
        "        self.x = x\n",
        "        self.y = y\n",
        "        self.w = w\n",
        "        self.h = h\n",
        "\n",
        "    def paint(self, canvas):\n",
        "        canvas.h_line(self.x, self.y, self.w, **self.kwargs)\n",
        "        canvas.h_line(self.x, self.y + self.h, self.w, **self.kwargs)\n",
        "        canvas.v_line(self.x, self.y, self.h, **self.kwargs)\n",
        "        canvas.v_line(self.x + self.w, self.y, self.h, **self.kwargs)\n",
        "\n",
        "    def __str__(self,**kwargs):\n",
        "      Shape.__str__(self,**kwargs)\n",
        "      ReInsName = \"Rectangle\" + \"(\"+str(self.x)+(','+str(self.y))+(','+str(self.w))+(','+str(self.h))+str(**kwargs)+\")\"\n",
        "      return ReInsName\n",
        "\n",
        "class Square(Rectangle):\n",
        "    def __init__(self, x, y, size, **kwargs):\n",
        "        Rectangle.__init__(self, x, y, size, size, **kwargs)\n",
        "\n",
        "    def __str__(self,**kwargs):\n",
        "      Shape.__str__(self,**kwargs)\n",
        "      ReInsName = \"Square\" + \"(\"+str(self.x)+(','+str(self.y))+(','+str(self.size))+(\",\"+str(**kwargs))+\")\"\n",
        "      return ReInsName\n",
        "\n",
        "class Line(Shape):\n",
        "    def __init__(self, x1, y1, x2, y2,  **kwargs):\n",
        "        Shape.__init__(self, **kwargs)\n",
        "        self.x1=x1\n",
        "        self.y1=y1\n",
        "        self.x2=x2\n",
        "        self.y2=y2\n",
        "        \n",
        "    def paint(self, canvas):\n",
        "        canvas.line(self.x1,self.y1,self.x2,self.y2)\n",
        "\n",
        "    def __str__(self,**kwargs):\n",
        "      Shape.__str__(self,**kwargs)\n",
        "      ReInsName = \"Line\" + \"(\"+str(self.x1)+(','+str(self.y1))+(','+str(self.x2))+(','+str(self.y2))+str(**kwargs)+\")\"\n",
        "      return ReInsName\n",
        "        \n",
        "class CompoundShape(Shape):\n",
        "    def __init__(self, shapes):\n",
        "        self.shapes = shapes\n",
        "\n",
        "    def paint(self, canvas):\n",
        "        for s in self.shapes:\n",
        "            s.paint(canvas)"
      ],
      "execution_count": 0,
      "outputs": []
    },
    {
      "cell_type": "code",
      "metadata": {
        "id": "2AcnMy_YZAe9",
        "colab_type": "code",
        "colab": {}
      },
      "source": [
        "class RasterDrawing:\n",
        "    def __init__(self):\n",
        "        self.shapes=dict()\n",
        "        self.shape_names=list()\n",
        "        \n",
        "    def add_shape(self,shape):\n",
        "        if shape.name == \"\":\n",
        "            shape.name = self.assign_name()\n",
        "        \n",
        "        self.shapes[shape.name]=shape\n",
        "        self.shape_names.append(shape.name)\n",
        "        \n",
        "    def paint(self,canvas):\n",
        "        for shape_name in self.shape_names:\n",
        "            self.shapes[shape_name].paint(canvas)\n",
        "            \n",
        "    def assign_name(self):\n",
        "        name_base=\"shape\"\n",
        "        name = name_base+\"_0\"\n",
        "        \n",
        "        i=1\n",
        "        while name in self.shapes:\n",
        "            name = name_base+\"_\"+str(i)\n",
        "            i = i + 1\n",
        "        return name\n",
        "\n",
        "    def save(self, filename, canvas):\n",
        "      open(filename, \"w\").close()\n",
        "      file = open(filename, \"w\")\n",
        "      for S in self.shape_names:\n",
        "        f = self.shapes[S].__str__()\n",
        "        file.write(f + \"\\n\")\n",
        "      file.close();\n",
        "      return print(\"File Saved!\")\n",
        "    \n",
        "    def load(self, filename, canvas):\n",
        "      file = open(filename, \"r\")\n",
        "      line = file.readlines()\n",
        "      out = []\n",
        "      for i in line:\n",
        "        print(i)\n",
        "        out.append(eval(i))\n",
        "      for element in out:\n",
        "        element.paint(canvas)\n"
      ],
      "execution_count": 0,
      "outputs": []
    },
    {
      "cell_type": "markdown",
      "metadata": {
        "id": "LefmlYY5ZAfD",
        "colab_type": "text"
      },
      "source": [
        "1. Add `Point` and `Triangle` classes and test them."
      ]
    },
    {
      "cell_type": "code",
      "metadata": {
        "id": "3d4OaApQZAfD",
        "colab_type": "code",
        "colab": {}
      },
      "source": [
        "\n",
        "class Point(Shape):\n",
        "    def __init__(self, x, y):\n",
        "      Shape.__init__(self)\n",
        "      self.x = x\n",
        "      self.y = y\n",
        "\n",
        "    def paint(self, canvas):\n",
        "        canvas.set_pixel(self.x, self.y)\n",
        "\n",
        "    def __str__(self,**kwargs):\n",
        "      Shape.__str__(self,**kwargs)\n",
        "      ReInsName = \"Point\" + \"(\"+str(self.x)+(\",\"+str(self.y))+str(**kwargs)+\")\"\n",
        "      return ReInsName\n",
        "\n",
        "class Triangle(Shape):\n",
        "    def __init__(self, x, y ,h, w, **kwargs):\n",
        "      Shape.__init__(self, **kwargs)\n",
        "      self.x = x\n",
        "      self.y = y\n",
        "      self.h = h\n",
        "      self.w = w\n",
        "\n",
        "    def paint(self, canvas):\n",
        "        canvas.v_line(self.x, self.y, self.h, **self.kwargs)\n",
        "        canvas.line(self.x, self.y, self.h, self.h, **self.kwargs)\n",
        "        canvas.h_line(self.x, self.h, self.w, **self.kwargs)\n",
        "\n",
        "    def __str__(self,**kwargs):\n",
        "      Shape.__str__(self,**kwargs)\n",
        "      ReInsName = \"Triangle\" + \"(\"+str(self.x)+(','+str(self.y))+(','+str(self.h))+(','+str(self.w))+(str(**kwargs))+\")\"\n",
        "      return ReInsName"
      ],
      "execution_count": 0,
      "outputs": []
    },
    {
      "cell_type": "code",
      "metadata": {
        "id": "t5XIizvQcfBY",
        "colab_type": "code",
        "colab": {
          "base_uri": "https://localhost:8080/",
          "height": 492
        },
        "outputId": "02f1f278-8bba-4ddf-aff8-6db5fe41e15d"
      },
      "source": [
        "print(\"Various Points tested (1,1),(2,2),(3,3),(4,4),(5,5): \\n\")\n",
        "test1 = Canvas(6,6)\n",
        "p = Point(1,1)\n",
        "q = Point(2,2)\n",
        "r = Point(3,3)\n",
        "s = Point(4,4)\n",
        "t = Point(5,5)\n",
        "p.paint(test1)\n",
        "q.paint(test1)\n",
        "r.paint(test1)\n",
        "s.paint(test1)\n",
        "t.paint(test1)\n",
        "test1.display()\n",
        "print(\"\\n\")\n",
        "\n",
        "print(\"Triangle tested:\\n\")\n",
        "test2 = Canvas(15,15)\n",
        "T1 = Triangle(1,1,10,10)\n",
        "T1.paint(test2)\n",
        "test2.display()\n",
        "\n"
      ],
      "execution_count": 225,
      "outputs": [
        {
          "output_type": "stream",
          "text": [
            "Various Points tested (1,1),(2,2),(3,3),(4,4),(5,5): \n",
            "\n",
            "      \n",
            " *    \n",
            "  *   \n",
            "   *  \n",
            "    * \n",
            "     *\n",
            "\n",
            "\n",
            "Triangle tested:\n",
            "\n",
            "               \n",
            " **********    \n",
            "  *       *    \n",
            "   *      *    \n",
            "    *     *    \n",
            "     *    *    \n",
            "      *   *    \n",
            "       *  *    \n",
            "        * *    \n",
            "         **    \n",
            "          *    \n",
            "               \n",
            "               \n",
            "               \n",
            "               \n"
          ],
          "name": "stdout"
        }
      ]
    },
    {
      "cell_type": "markdown",
      "metadata": {
        "id": "Wmzxi8o-ZAfG",
        "colab_type": "text"
      },
      "source": [
        "2. Add an `Arc` class that is instantiated with a center location, two axis lengths, and starting and ending angles. If start and end are not specified or are the same angle, the `Arc` instance should draw an oval. If in addition the two axes are the same, the `Arc` instance should draw a circle. Create `Oval` and `Circle` classes that inherit from `Arc`. Test everything."
      ]
    },
    {
      "cell_type": "code",
      "metadata": {
        "id": "c-XnyOwcZAfG",
        "colab_type": "code",
        "colab": {}
      },
      "source": [
        "import math\n",
        "class Arc(Shape):\n",
        "  def __init__(self, x, y, p, q, first_angle, second_angle, **kwargs):\n",
        "    Shape.__init__(self, **kwargs)\n",
        "    self.x = x\n",
        "    self.y = y\n",
        "    self.p = p\n",
        "    self.q = q\n",
        "    self.first_angle = first_angle\n",
        "    self.second_angle = second_angle\n",
        "\n",
        "  def paint(self, canvas):\n",
        "    if self.first_angle != self.second_angle and self.p != self.q :\n",
        "      for i in range(self.first_angle,self.second_angle):\n",
        "          x = self.x + self.p*math.cos(i)\n",
        "          y = self.y + math.sqrt((i**2)+3)\n",
        "          canvas.set_pixel(int(x),int(y))\n",
        "\n",
        "    elif self.p == self.q and self.first_angle is None and self.second_angle is None:\n",
        "      for i in range(0,360):\n",
        "        x = int(self.x + self.p*math.sin(i))\n",
        "        y = int(self.y - self.q*(1-math.cos(i)))\n",
        "        canvas.set_pixel(int(x),int(y))\n",
        "\n",
        "    elif self.first_angle == self.second_angle:\n",
        "      for i in range(0,360):\n",
        "          x = int(self.x + self.p*math.sin(i))\n",
        "          y = int(self.y + self.q*(1-math.cos(i)))\n",
        "          canvas.set_pixel(int(x),int(y))  \n",
        "\n",
        "  def __str__(self,**kwargs):\n",
        "    Shape.__str__(self,**kwargs)\n",
        "    ReInsName = \"Arc\" + \"(\"+str(self.x)+(','+str(self.y))+(','+str(self.p))+(','+str(self.q))+(','+str(self.first_angle))+(','+str(self.second_angle))+str(**kwargs)+\")\"\n",
        "    return ReInsName\n",
        "\n",
        "class Circle(Arc):\n",
        "  def __init__(self, x, y, p, **kwargs):\n",
        "    Arc.__init__(self, x, y, p, p, None, None, **kwargs)\n",
        "\n",
        "  def __str__(self,**kwargs):\n",
        "    Shape.__str__(self,**kwargs)\n",
        "    ReInsName = \"Circle\" + \"(\"+str(self.x)+(','+str(self.y))+(','+str(self.p))+str(**kwargs)+\")\"\n",
        "    return ReInsName\n",
        "\n",
        "class Oval(Arc):\n",
        "  def __init__(self, x, y, p, q, first_angle, second_angle, **kwargs):\n",
        "    Arc.__init__(self, x, y, p, q, first_angle, second_angle, **kwargs)\n",
        "\n",
        "  def __str__(self,**kwargs):\n",
        "    Shape.__str__(self,**kwargs)\n",
        "    ReInsName = str1 + \"(\"+str(self.x)+(\",\"+str(self.y))+(','+str(self.p))+(','+str(self.q))+(','+str(self.first_angle))+(','+str(self.second_angle))+str(**kwargs)+\")\"\n",
        "    return ReInsName"
      ],
      "execution_count": 0,
      "outputs": []
    },
    {
      "cell_type": "code",
      "metadata": {
        "id": "QAlT7Rqrjela",
        "colab_type": "code",
        "colab": {
          "base_uri": "https://localhost:8080/",
          "height": 967
        },
        "outputId": "0ee7a044-0c8c-47c2-c0e2-b23a784898ad"
      },
      "source": [
        "print(\"Testing Oval:\")\n",
        "test3 = Canvas(20,20)\n",
        "a1 = Arc(10,10,6,5,None,None)\n",
        "a1.paint(test3)\n",
        "test3.display()\n",
        "print(\"\\n\")\n",
        "\n",
        "print(\"Testing Circle:\")\n",
        "test3 = Canvas(30,30)\n",
        "a1 = Arc(20,20,8,8,None,None)\n",
        "a1.paint(test3)\n",
        "test3.display()"
      ],
      "execution_count": 227,
      "outputs": [
        {
          "output_type": "stream",
          "text": [
            "Testing Oval:\n",
            "                    \n",
            "                    \n",
            "                    \n",
            "                    \n",
            "            ******  \n",
            "           **    ** \n",
            "          **      **\n",
            "          *        *\n",
            "          *        *\n",
            "          *        *\n",
            "          *        *\n",
            "          *        *\n",
            "          *        *\n",
            "          **      **\n",
            "           **    ** \n",
            "            ******  \n",
            "                    \n",
            "                    \n",
            "                    \n",
            "                    \n",
            "\n",
            "\n",
            "Testing Circle:\n",
            "                              \n",
            "                              \n",
            "                              \n",
            "                              \n",
            "                              \n",
            "                              \n",
            "                              \n",
            "                              \n",
            "                              \n",
            "                              \n",
            "                              \n",
            "                              \n",
            "        ********              \n",
            "      ***      ***            \n",
            "     **          **           \n",
            "     *            *           \n",
            "    **            **          \n",
            "    *              *          \n",
            "    *              *          \n",
            "    *              *          \n",
            "    *              **         \n",
            "    *              *          \n",
            "    *              *          \n",
            "    **            **          \n",
            "     *            *           \n",
            "     **          **           \n",
            "      ***      ***            \n",
            "        ********              \n",
            "                              \n",
            "                              \n"
          ],
          "name": "stdout"
        }
      ]
    },
    {
      "cell_type": "markdown",
      "metadata": {
        "id": "4TzmrMctZAfM",
        "colab_type": "text"
      },
      "source": [
        "3. Use your classes to create a `RasterDrawing` that draws a happy face."
      ]
    },
    {
      "cell_type": "code",
      "metadata": {
        "id": "yDpegv6aZAfN",
        "colab_type": "code",
        "colab": {
          "base_uri": "https://localhost:8080/",
          "height": 932
        },
        "outputId": "d7f403e6-0a8c-4915-c55e-e66124c3362c"
      },
      "source": [
        "print(\"Hi! I am Happy\\n\")\n",
        "test4 = Canvas(50,50)\n",
        "R = RasterDrawing()\n",
        "R.add_shape(Circle(20,20,9))\n",
        "R.add_shape(Point(15,8))\n",
        "R.add_shape(Point(15,13))\n",
        "R.add_shape(Point(18,10))\n",
        "R.add_shape(Point(19,9))\n",
        "R.add_shape(Point(20,8))\n",
        "R.add_shape(Point(20,9))\n",
        "R.add_shape(Point(20,10))\n",
        "R.add_shape(Arc(24,7,-1,1,0,7))\n",
        "R.paint(test4)\n",
        "test4.display()"
      ],
      "execution_count": 228,
      "outputs": [
        {
          "output_type": "stream",
          "text": [
            "Hi! I am Happy\n",
            "\n",
            "                                                  \n",
            "                                                  \n",
            "                                                  \n",
            "                                                  \n",
            "                                                  \n",
            "                                                  \n",
            "                                                  \n",
            "                                                  \n",
            "                                                  \n",
            "                                                  \n",
            "                                                  \n",
            "      **********                                  \n",
            "     **        **                                 \n",
            "    **          **                                \n",
            "   **            **                               \n",
            "   *    *    *    *                               \n",
            "  *                *                              \n",
            "  *                *                              \n",
            "  *       *        *                              \n",
            "  *      *         *                              \n",
            "  *     ***        **                             \n",
            "  *                *                              \n",
            "  *                *                              \n",
            "  *     **  **     *                              \n",
            "  **     ***      **                              \n",
            "   **            **                               \n",
            "    **          **                                \n",
            "     **        **                                 \n",
            "      **********                                  \n",
            "                                                  \n",
            "                                                  \n",
            "                                                  \n",
            "                                                  \n",
            "                                                  \n",
            "                                                  \n",
            "                                                  \n",
            "                                                  \n",
            "                                                  \n",
            "                                                  \n",
            "                                                  \n",
            "                                                  \n",
            "                                                  \n",
            "                                                  \n",
            "                                                  \n",
            "                                                  \n",
            "                                                  \n",
            "                                                  \n",
            "                                                  \n",
            "                                                  \n",
            "                                                  \n"
          ],
          "name": "stdout"
        }
      ]
    },
    {
      "cell_type": "markdown",
      "metadata": {
        "id": "X_CeRE_WZAfW",
        "colab_type": "text"
      },
      "source": [
        "4. Add to the `Shape` base class a `__str__()` method. Overwrite the method in each shape to generate a string of the python code necessary to reinstantiate the object. For example, for a rectangle originally instantiated using `Square(5,5,20,char=\"^\")`, `__str__()` should return the string `'Square(5,5,20,char=\"^\")'`.\n"
      ]
    },
    {
      "cell_type": "code",
      "metadata": {
        "id": "swAbq3l3ZAfX",
        "colab_type": "code",
        "colab": {
          "base_uri": "https://localhost:8080/",
          "height": 316
        },
        "outputId": "c46fd01d-f160-4ee5-aa85-6f0bf36a5775"
      },
      "source": [
        "test5 = Canvas(15,15)\n",
        "T2 = Triangle(1,1,10,10)\n",
        "T2.paint(test5)\n",
        "test5.display()\n",
        "\n",
        "print(\"This triangle was instantiated with: %s\\n\" %T2.__str__())\n"
      ],
      "execution_count": 229,
      "outputs": [
        {
          "output_type": "stream",
          "text": [
            "               \n",
            " **********    \n",
            "  *       *    \n",
            "   *      *    \n",
            "    *     *    \n",
            "     *    *    \n",
            "      *   *    \n",
            "       *  *    \n",
            "        * *    \n",
            "         **    \n",
            "          *    \n",
            "               \n",
            "               \n",
            "               \n",
            "               \n",
            "This triangle was instantiated with: Triangle(1,1,10,10)\n",
            "\n"
          ],
          "name": "stdout"
        }
      ]
    },
    {
      "cell_type": "markdown",
      "metadata": {
        "id": "czbxNyEEZAfc",
        "colab_type": "text"
      },
      "source": [
        "5. Add to `RasterDrawing` two functions, `save(filename)` and `load(filename)`. The save function writes the `__str__()` of all of the shapes in the drawing to a file (one shape per line). The load function, reads the file, and instantiates each object using the python `eval(expression)` function, and adds each shape to the drawing, thereby recreating a \"saved\" raster drawing. Use this functionality to save and load your happy face.\n",
        "\n",
        "   `eval` takes a string that contains a fragment of a python code and executes it. Consider the following examples: "
      ]
    },
    {
      "cell_type": "code",
      "metadata": {
        "id": "4OlqBnKrZAfd",
        "colab_type": "code",
        "colab": {
          "base_uri": "https://localhost:8080/",
          "height": 34
        },
        "outputId": "a2ce28da-427e-4165-c2b7-22cdde1a84fc"
      },
      "source": [
        "eval(\"print('Hello')\")"
      ],
      "execution_count": 230,
      "outputs": [
        {
          "output_type": "stream",
          "text": [
            "Hello\n"
          ],
          "name": "stdout"
        }
      ]
    },
    {
      "cell_type": "code",
      "metadata": {
        "id": "d4yjfe8FZAfj",
        "colab_type": "code",
        "colab": {
          "base_uri": "https://localhost:8080/",
          "height": 34
        },
        "outputId": "02df0795-53fd-4bea-ace2-b904b04c0ca6"
      },
      "source": [
        "x = eval('1+2')\n",
        "print(x)"
      ],
      "execution_count": 231,
      "outputs": [
        {
          "output_type": "stream",
          "text": [
            "3\n"
          ],
          "name": "stdout"
        }
      ]
    },
    {
      "cell_type": "code",
      "metadata": {
        "id": "fxz3MDGbZAfp",
        "colab_type": "code",
        "colab": {
          "base_uri": "https://localhost:8080/",
          "height": 34
        },
        "outputId": "29088ea0-46f3-4bc6-f7cd-eda3a8114567"
      },
      "source": [
        "R.save(\"Happy_Face\",test4)"
      ],
      "execution_count": 232,
      "outputs": [
        {
          "output_type": "stream",
          "text": [
            "File Saved!\n"
          ],
          "name": "stdout"
        }
      ]
    },
    {
      "cell_type": "code",
      "metadata": {
        "id": "H23hRfNSx7EU",
        "colab_type": "code",
        "colab": {
          "base_uri": "https://localhost:8080/",
          "height": 1000
        },
        "outputId": "9c41fd91-b257-411a-8af6-7fc73b73893b"
      },
      "source": [
        "R.load(\"Happy_Face\",test4)\n",
        "test4.display()"
      ],
      "execution_count": 233,
      "outputs": [
        {
          "output_type": "stream",
          "text": [
            "Circle(20,20,9)\n",
            "\n",
            "Point(15,8)\n",
            "\n",
            "Point(15,13)\n",
            "\n",
            "Point(18,10)\n",
            "\n",
            "Point(19,9)\n",
            "\n",
            "Point(20,8)\n",
            "\n",
            "Point(20,9)\n",
            "\n",
            "Point(20,10)\n",
            "\n",
            "Arc(24,7,-1,1,0,7)\n",
            "\n",
            "                                                  \n",
            "                                                  \n",
            "                                                  \n",
            "                                                  \n",
            "                                                  \n",
            "                                                  \n",
            "                                                  \n",
            "                                                  \n",
            "                                                  \n",
            "                                                  \n",
            "                                                  \n",
            "      **********                                  \n",
            "     **        **                                 \n",
            "    **          **                                \n",
            "   **            **                               \n",
            "   *    *    *    *                               \n",
            "  *                *                              \n",
            "  *                *                              \n",
            "  *       *        *                              \n",
            "  *      *         *                              \n",
            "  *     ***        **                             \n",
            "  *                *                              \n",
            "  *                *                              \n",
            "  *     **  **     *                              \n",
            "  **     ***      **                              \n",
            "   **            **                               \n",
            "    **          **                                \n",
            "     **        **                                 \n",
            "      **********                                  \n",
            "                                                  \n",
            "                                                  \n",
            "                                                  \n",
            "                                                  \n",
            "                                                  \n",
            "                                                  \n",
            "                                                  \n",
            "                                                  \n",
            "                                                  \n",
            "                                                  \n",
            "                                                  \n",
            "                                                  \n",
            "                                                  \n",
            "                                                  \n",
            "                                                  \n",
            "                                                  \n",
            "                                                  \n",
            "                                                  \n",
            "                                                  \n",
            "                                                  \n",
            "                                                  \n"
          ],
          "name": "stdout"
        }
      ]
    }
  ]
}