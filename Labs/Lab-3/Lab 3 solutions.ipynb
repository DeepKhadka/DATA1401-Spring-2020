{
  "nbformat": 4,
  "nbformat_minor": 0,
  "metadata": {
    "kernelspec": {
      "name": "python3",
      "display_name": "Python 3"
    },
    "colab": {
      "name": "Copy of Lab-3.ipynb",
      "provenance": [],
      "collapsed_sections": []
    }
  },
  "cells": [
    {
      "cell_type": "markdown",
      "metadata": {
        "id": "45JzT7XhFw5k",
        "colab_type": "text"
      },
      "source": [
        "# Lab 3- Tic Tac Toe\n",
        "\n",
        "[![Open In Colab](https://colab.research.google.com/assets/colab-badge.svg)](https://colab.research.google.com/github//afarbin/DATA1401-Spring-2020/blob/master/Labs/Lab-3/Lab-3.ipynb)\n",
        "\n",
        "In this lab your will build a n x n Tic Tac Toe game. As you do the exercises, make sure your solutions work for any size Tic Tac Toe game. "
      ]
    },
    {
      "cell_type": "markdown",
      "metadata": {
        "id": "j40QzzrlFw5s",
        "colab_type": "text"
      },
      "source": [
        "*Exercise 1:* Write a function that creates an n by n matrix (of list of lists) which will represent the state of a Tie Tac Toe game. Let 0, 1, and 2 represent empty, \"X\", or \"O\".\n"
      ]
    },
    {
      "cell_type": "code",
      "metadata": {
        "deletable": true,
        "editable": true,
        "id": "_Qw8-2-6Fw57",
        "colab_type": "code",
        "colab": {}
      },
      "source": [
        "\n",
        "def make_game(size=3):\n",
        "    Tic_Tac_Toe=[[0]*size for i in range(size)]\n",
        "    return Tic_Tac_Toe\n",
        "    "
      ],
      "execution_count": 0,
      "outputs": []
    },
    {
      "cell_type": "code",
      "metadata": {
        "deletable": true,
        "editable": true,
        "id": "MxRlCZ9vFw6G",
        "colab_type": "code",
        "outputId": "f2e76531-a9bc-4ddd-a70d-fd6df46bc29f",
        "colab": {
          "base_uri": "https://localhost:8080/",
          "height": 35
        }
      },
      "source": [
        "game=make_game(3)\n",
        "game"
      ],
      "execution_count": 257,
      "outputs": [
        {
          "output_type": "execute_result",
          "data": {
            "text/plain": [
              "[[0, 0, 0], [0, 0, 0], [0, 0, 0]]"
            ]
          },
          "metadata": {
            "tags": []
          },
          "execution_count": 257
        }
      ]
    },
    {
      "cell_type": "markdown",
      "metadata": {
        "deletable": true,
        "editable": true,
        "id": "ROWzcvO6Fw6N",
        "colab_type": "text"
      },
      "source": [
        "*Exercise 2:* Write a function that takes a `n` by `n` matrix representing a tic-tac-toe game, and returns -1, 0, 1, or 2 indicating the game is incomplete, the game is a draw, player 1 has won, or player 2 has one, respectively. Here are some example inputs you can use to test your code:"
      ]
    },
    {
      "cell_type": "code",
      "metadata": {
        "deletable": true,
        "editable": true,
        "id": "Vr83rsyRFw6Q",
        "colab_type": "code",
        "colab": {}
      },
      "source": [
        "winner_is_2 = [[2, 2, 0],\n",
        "\t[2, 1, 0],\n",
        "\t[2, 1, 1]]\n",
        "\n",
        "winner_is_1 = [[1, 2, 0],\n",
        "\t[2, 1, 0],\n",
        "\t[2, 1, 1]]\n",
        "\n",
        "winner_is_also_1 = [[0, 1, 0],\n",
        "\t[2, 1, 0],\n",
        "\t[2, 1, 1]]\n",
        "\n",
        "no_winner = [[1, 2, 1],\n",
        "\t[2, 1, 2],\n",
        "\t[2, 1, 2]]\n",
        "\n",
        "also_no_winner = [[1, 2, 0],\n",
        "\t[2, 0, 0],\n",
        "\t[2, 0, 0]]"
      ],
      "execution_count": 0,
      "outputs": []
    },
    {
      "cell_type": "code",
      "metadata": {
        "deletable": true,
        "editable": true,
        "id": "f4Mkpi31Fw6X",
        "colab_type": "code",
        "colab": {}
      },
      "source": [
        "#return n row of a matrix\n",
        "def get_row(m,n): #m is the matrix and n is the row you want\n",
        "  row=m[:][n]\n",
        "  return row\n",
        "\n",
        "#return n column of a matrix\n",
        "def get_column(m,n): \n",
        "  return list(map(lambda x : x[n], m))\n",
        "\n",
        "#return both the diagonals\n",
        "def get_diagonals(m): \n",
        "  dia_1=[]\n",
        "  dia_2=[]\n",
        "  dia_1=[m[i][i] for i in range(len(m))]\n",
        "  dia_2=[m[i][len(m)-1-i] for i in range(len(m))]\n",
        "  return dia_1,dia_2\n",
        "\n",
        "def compare_1(lst):\n",
        "  count_1=0\n",
        "  for i in range(len(lst)):\n",
        "    if lst[i]==1:\n",
        "      count_1=count_1 + 1\n",
        "  if count_1==3:\n",
        "    return True\n",
        "  else:\n",
        "    return False\n",
        "\n",
        "def compare_2(lst):\n",
        "  count_2=0\n",
        "  for i in range(len(lst)):\n",
        "    if lst[i]==2:\n",
        "      count_2=count_2 + 2\n",
        "  if count_2==6:\n",
        "    return True\n",
        "  else:\n",
        "    return False\n",
        "\n",
        "\n",
        "\n",
        "#returns the state of the game     \n",
        "def game_result(matrix):\n",
        "    counter=0\n",
        "    diagonal_1, diagonal_2 = get_diagonals(matrix) \n",
        "    #check incomplete\n",
        "    \n",
        "    count_moves = 0\n",
        "    for i in range(len(matrix)):\n",
        "      row=get_row(matrix,i)\n",
        "      for j in range(len(row)):\n",
        "        if row[j] == 1 or row[j] == 2:\n",
        "          count_moves = count_moves + 1\n",
        "    if count_moves < 5:\n",
        "      return -1 #returns incomplete\n",
        "    \n",
        "    elif count_moves>=5:\n",
        "      if compare_1(diagonal_1) == True or compare_1(diagonal_2) == True:\n",
        "        return 1\n",
        "      elif compare_2(diagonal_1) == True or compare_2(diagonal_2) == True:\n",
        "        return 2\n",
        "      for x in range(len(matrix)):\n",
        "        row = get_row(matrix,x)\n",
        "        for y in range(len(row)):\n",
        "          if row[y]==1 or row[y]==2:\n",
        "            counter=counter+1\n",
        "        column = get_column(matrix,x)\n",
        "        if compare_1(row) == True or compare_1(column) == True:\n",
        "          return 1\n",
        "        elif compare_2(row) == True or compare_2(column) == True:\n",
        "          return 2\n",
        "      if counter==9:\n",
        "        return 0\n",
        "      else:\n",
        "        return -1  #returns incomplete\n",
        "    \n",
        "\n",
        "      \n",
        "         "
      ],
      "execution_count": 0,
      "outputs": []
    },
    {
      "cell_type": "code",
      "metadata": {
        "deletable": true,
        "editable": true,
        "id": "ugyv2RixFw6c",
        "colab_type": "code",
        "outputId": "4167ef12-1c0e-41c2-ec42-c75eebbb0b19",
        "colab": {
          "base_uri": "https://localhost:8080/",
          "height": 35
        }
      },
      "source": [
        "print(game_result(no_winner))"
      ],
      "execution_count": 258,
      "outputs": [
        {
          "output_type": "stream",
          "text": [
            "0\n"
          ],
          "name": "stdout"
        }
      ]
    },
    {
      "cell_type": "markdown",
      "metadata": {
        "deletable": true,
        "editable": true,
        "id": "AJnsR6prFw6i",
        "colab_type": "text"
      },
      "source": [
        "*Exercise 3:* Write a function that takes 2 integers `n` and `m` as input and draws a `n` by `m` game board. For example the following is a 3x3 board:\n",
        "```\n",
        "   --- --- --- \n",
        "  |   |   |   | \n",
        "   --- --- ---  \n",
        "  |   |   |   | \n",
        "   --- --- ---  \n",
        "  |   |   |   | \n",
        "   --- --- --- \n",
        "   ```"
      ]
    },
    {
      "cell_type": "code",
      "metadata": {
        "deletable": true,
        "editable": true,
        "id": "pPKD4n0cFw6m",
        "colab_type": "code",
        "colab": {}
      },
      "source": [
        "def draw_board(n,m):\n",
        "  for i in range(n):\n",
        "    print(\"---\"*m)\n",
        "    print(\"|  \"*(m+1))\n",
        "  print(\"---\"*m)"
      ],
      "execution_count": 0,
      "outputs": []
    },
    {
      "cell_type": "code",
      "metadata": {
        "deletable": true,
        "editable": true,
        "id": "J7YclIvnFw6t",
        "colab_type": "code",
        "colab": {
          "base_uri": "https://localhost:8080/",
          "height": 139
        },
        "outputId": "5ec428b3-2578-4e7e-b309-cc87fba9d6ef"
      },
      "source": [
        "draw_board(3,3)"
      ],
      "execution_count": 230,
      "outputs": [
        {
          "output_type": "stream",
          "text": [
            "---------\n",
            "|  |  |  |  \n",
            "---------\n",
            "|  |  |  |  \n",
            "---------\n",
            "|  |  |  |  \n",
            "---------\n"
          ],
          "name": "stdout"
        }
      ]
    },
    {
      "cell_type": "markdown",
      "metadata": {
        "deletable": true,
        "editable": true,
        "id": "aLuibAnHFw60",
        "colab_type": "text"
      },
      "source": [
        "*Exercise 4:* Modify exercise 3, so that it takes a matrix of the form from exercise 2 and draws a tic-tac-tie board with \"X\"s and \"O\"s.  "
      ]
    },
    {
      "cell_type": "code",
      "metadata": {
        "deletable": true,
        "editable": true,
        "id": "X12ne8zzFw63",
        "colab_type": "code",
        "colab": {}
      },
      "source": [
        "def draw_tic_tac_toe(matrix):\n",
        "  l = len(matrix)\n",
        "  \n",
        "  for i in range(l):\n",
        "    if i!=0:\n",
        "     print(\"\\n----------\")\n",
        "    for j in range(l):\n",
        "      var = matrix[i][j]\n",
        "      if var == 1:\n",
        "        var = \"X\"\n",
        "      if var == 2:\n",
        "        var = \"O\"\n",
        "      if var == 0:\n",
        "        var = \" \"\n",
        "      if j!=0:\n",
        "       print(\"| \"+var+\" \",end=\"\")\n",
        "      if j==0:\n",
        "        print(\" \"+var,end=\"\")\n",
        "\n",
        "     \n",
        "  "
      ],
      "execution_count": 0,
      "outputs": []
    },
    {
      "cell_type": "code",
      "metadata": {
        "deletable": true,
        "editable": true,
        "id": "LvV5er3pFw7A",
        "colab_type": "code",
        "colab": {
          "base_uri": "https://localhost:8080/",
          "height": 104
        },
        "outputId": "6ad9b727-39ae-47fd-9f45-5e1f2d5603b3"
      },
      "source": [
        "draw_tic_tac_toe(no_winner)"
      ],
      "execution_count": 232,
      "outputs": [
        {
          "output_type": "stream",
          "text": [
            " X| O | X \n",
            "----------\n",
            " O| X | O \n",
            "----------\n",
            " O| X | O "
          ],
          "name": "stdout"
        }
      ]
    },
    {
      "cell_type": "markdown",
      "metadata": {
        "deletable": true,
        "editable": true,
        "id": "2v8jSjj8Fw7H",
        "colab_type": "text"
      },
      "source": [
        "*Exercise 5:* Write a function that takes a game board, player number, and `(x,y)` coordinates and places \"X\" or \"O\" in the correct location of the game board. Make sure that you only allow filling previously empty locations. Return `True` or `False` to indicate successful placement of \"X\" or \"O\"."
      ]
    },
    {
      "cell_type": "code",
      "metadata": {
        "deletable": true,
        "editable": true,
        "id": "4NXH6zpxFw7I",
        "colab_type": "code",
        "colab": {}
      },
      "source": [
        "def place_on_board(matrix,player_number,x_coordinate,y_coordinate):\n",
        "  player_1_piece = \"X\"\n",
        "  player_2_piece = \"O\"\n",
        "  empty_space = \" \"\n",
        "  if matrix[x_coordinate][y_coordinate]!=0:\n",
        "    return False\n",
        "  elif player_number == 1:\n",
        "    matrix[x_coordinate][y_coordinate]=1\n",
        "    return True\n",
        "  elif player_number == 2:\n",
        "    matrix[x_coordinate][y_coordinate]=2\n",
        "    return True\n",
        "\n",
        "\n"
      ],
      "execution_count": 0,
      "outputs": []
    },
    {
      "cell_type": "code",
      "metadata": {
        "deletable": true,
        "editable": true,
        "id": "sMcqRozxFw7T",
        "colab_type": "code",
        "colab": {
          "base_uri": "https://localhost:8080/",
          "height": 104
        },
        "outputId": "4ae4930f-221d-403a-8eca-7dbaf8d25971"
      },
      "source": [
        "board=make_game()\n",
        "place_on_board(board,2,1,2)\n",
        "draw_tic_tac_toe(board)"
      ],
      "execution_count": 235,
      "outputs": [
        {
          "output_type": "stream",
          "text": [
            "  |   |   \n",
            "----------\n",
            "  |   | O \n",
            "----------\n",
            "  |   |   "
          ],
          "name": "stdout"
        }
      ]
    },
    {
      "cell_type": "markdown",
      "metadata": {
        "deletable": true,
        "editable": true,
        "id": "zkPLhxqiFw7b",
        "colab_type": "text"
      },
      "source": [
        "*Exercise 6:* Modify Exercise 4 to show column and row labels so that players can specify location using \"A2\" or \"C1\"."
      ]
    },
    {
      "cell_type": "code",
      "metadata": {
        "id": "88BGuXVHFw7d",
        "colab_type": "code",
        "colab": {}
      },
      "source": [
        "def draw_tic_tac_toe_updated(matrix):\n",
        "  l = len(matrix)\n",
        "  print(\"  1   2   3\")\n",
        "  for i in range(l):\n",
        "    if i!=0:\n",
        "     print(\"\\n  ----------\")\n",
        "    for j in range(l):\n",
        "      var = matrix[i][j]\n",
        "      if var == 1:\n",
        "        var = \"X\"\n",
        "      if var == 2:\n",
        "        var = \"O\"\n",
        "      if var == 0:\n",
        "        var = \" \"\n",
        "      if i==0 and j==0:\n",
        "        print(\"A \",end=\"\")\n",
        "      if i==1 and j==0:\n",
        "        print(\"B \",end=\"\")\n",
        "      if i==2 and j==0:\n",
        "        print(\"C \",end=\"\")\n",
        "      if j!=0:\n",
        "       print(\"| \"+var+\" \",end=\"\")\n",
        "      if j==0:\n",
        "        print(\" \"+var,end=\"\")\n",
        "\n",
        "      "
      ],
      "execution_count": 0,
      "outputs": []
    },
    {
      "cell_type": "code",
      "metadata": {
        "deletable": true,
        "editable": true,
        "id": "gQpzKs4AFw7k",
        "colab_type": "code",
        "colab": {
          "base_uri": "https://localhost:8080/",
          "height": 121
        },
        "outputId": "bed65ad5-bb2a-45d1-9d0d-47129bba0471"
      },
      "source": [
        "draw_tic_tac_toe_updated(no_winner)"
      ],
      "execution_count": 237,
      "outputs": [
        {
          "output_type": "stream",
          "text": [
            "  1   2   3\n",
            "A  X| O | X \n",
            "  ----------\n",
            "B  O| X | O \n",
            "  ----------\n",
            "C  O| X | O "
          ],
          "name": "stdout"
        }
      ]
    },
    {
      "cell_type": "markdown",
      "metadata": {
        "deletable": true,
        "editable": true,
        "id": "ppv3L754Fw7s",
        "colab_type": "text"
      },
      "source": [
        "*Exercise 7:* Write a function that takes a board, player number, and location specified as in exercise 6 and then calls exercise 5 to correctly modify the board.  "
      ]
    },
    {
      "cell_type": "code",
      "metadata": {
        "deletable": true,
        "editable": true,
        "id": "6wQuH0yHFw7u",
        "colab_type": "code",
        "colab": {}
      },
      "source": [
        "def place_on_board_updated(matrix,player_number,location):\n",
        "  location_1 = list(location)\n",
        "  x=location_1[0]\n",
        "  y=location_1[1]\n",
        "  if x=='A':\n",
        "    if y == '1':\n",
        "      if place_on_board(matrix,player_number,0,0) == False:\n",
        "        return False\n",
        "      else:\n",
        "        return True\n",
        "    elif y == '2':\n",
        "      if place_on_board(matrix,player_number,0,1) == False:\n",
        "        return False\n",
        "      else:\n",
        "        return True\n",
        "    elif y == '3':\n",
        "      if place_on_board(matrix,player_number,0,2) == False:\n",
        "        return False\n",
        "      else:\n",
        "        return True\n",
        "  elif x=='B':\n",
        "    if y == '1':\n",
        "      if place_on_board(matrix,player_number,1,0):\n",
        "        return False\n",
        "      else:\n",
        "        return True\n",
        "    elif y == '2':\n",
        "      if place_on_board(matrix,player_number,1,1) == False:\n",
        "        return False\n",
        "      else:\n",
        "        return True\n",
        "    elif y == '3':\n",
        "      if place_on_board(matrix,player_number,1,2) == False:\n",
        "        return False\n",
        "      else:\n",
        "        return True\n",
        "  elif x=='C':\n",
        "    if y == '1':\n",
        "      if place_on_board(matrix,player_number,2,0) == False:\n",
        "        return False\n",
        "      else:\n",
        "        return True\n",
        "    elif y == '2':\n",
        "      if place_on_board(matrix,player_number,2,1) == False:\n",
        "        return False\n",
        "      else:\n",
        "        return True\n",
        "    elif y == '3':\n",
        "      if place_on_board(matrix,player_number,2,2) == False:\n",
        "        return False\n",
        "      else:\n",
        "        return True\n",
        "    \n",
        "    \n",
        "  \n"
      ],
      "execution_count": 0,
      "outputs": []
    },
    {
      "cell_type": "code",
      "metadata": {
        "deletable": true,
        "editable": true,
        "id": "EtlYcmTNFw7x",
        "colab_type": "code",
        "colab": {
          "base_uri": "https://localhost:8080/",
          "height": 121
        },
        "outputId": "049c43af-afa6-42c0-9f90-bf9fa93fbb7a"
      },
      "source": [
        "board=make_game()\n",
        "place_on_board_updated(board,2,\"B1\")\n",
        "draw_tic_tac_toe_updated(board)"
      ],
      "execution_count": 266,
      "outputs": [
        {
          "output_type": "stream",
          "text": [
            "  1   2   3\n",
            "A   |   |   \n",
            "  ----------\n",
            "B  O|   |   \n",
            "  ----------\n",
            "C   |   |   "
          ],
          "name": "stdout"
        }
      ]
    },
    {
      "cell_type": "markdown",
      "metadata": {
        "deletable": true,
        "editable": true,
        "id": "g2ODsLnoFw72",
        "colab_type": "text"
      },
      "source": [
        "*Exercise 8:* Write a function is called with a board and player number, takes input from the player using python's `input`, and modifies the board using your function from exercise 7. Note that you should keep asking for input until you have gotten a valid input that results in a valid move."
      ]
    },
    {
      "cell_type": "code",
      "metadata": {
        "deletable": true,
        "editable": true,
        "id": "aEwRlck4Fw74",
        "colab_type": "code",
        "colab": {}
      },
      "source": [
        "def pick_location(matrix,player_number):\n",
        " checker = [\"A1\",\"A2\",\"A3\",\"B1\",\"B2\",\"B3\",\"C1\",\"C2\",\"C3\"]\n",
        " while(True):\n",
        "  while(True):\n",
        "    back = False\n",
        "    location = input(\"\\nWhich location do you want to make your move at? e.g A1/a1 or C3/c3 etc: \")\n",
        "    location=location.upper()\n",
        "    for i in range(len(checker)):\n",
        "      if location == checker[i]:\n",
        "        back= True\n",
        "    if back == True:\n",
        "      break    \n",
        "  if place_on_board_updated(matrix,player_number,location) == False:\n",
        "    print(\"\\nPick an empty location.\")\n",
        "    continue\n",
        "  else:\n",
        "    break\n"
      ],
      "execution_count": 0,
      "outputs": []
    },
    {
      "cell_type": "code",
      "metadata": {
        "deletable": true,
        "editable": true,
        "id": "f6oXyz5PFw8A",
        "colab_type": "code",
        "colab": {
          "base_uri": "https://localhost:8080/",
          "height": 243
        },
        "outputId": "ec788336-bd47-4f2a-f252-95eab0f0cd86"
      },
      "source": [
        "a=make_game()\n",
        "draw_tic_tac_toe_updated(a)\n",
        "pick_location(a,2)\n",
        "draw_tic_tac_toe_updated(a)"
      ],
      "execution_count": 269,
      "outputs": [
        {
          "output_type": "stream",
          "text": [
            "  1   2   3\n",
            "A   |   |   \n",
            "  ----------\n",
            "B   |   |   \n",
            "  ----------\n",
            "C   |   |   \n",
            "Which location do you want to make your move at? e.g A1/a1 or C3/c3 etc: a1\n",
            "  1   2   3\n",
            "A  O|   |   \n",
            "  ----------\n",
            "B   |   |   \n",
            "  ----------\n",
            "C   |   |   "
          ],
          "name": "stdout"
        }
      ]
    },
    {
      "cell_type": "markdown",
      "metadata": {
        "deletable": true,
        "editable": true,
        "id": "a8JxFM9cFw8G",
        "colab_type": "text"
      },
      "source": [
        "*Exercise 9:* Use all of the previous exercises to implement a full tic-tac-toe game, where an appropriate board is drawn, 2 players are repeatedly asked for a location coordinates of where they wish to place a mark, and the game status is checked until a player wins or a draw occurs."
      ]
    },
    {
      "cell_type": "code",
      "metadata": {
        "deletable": true,
        "editable": true,
        "id": "Hpt9KKzyFw8H",
        "colab_type": "code",
        "colab": {
          "base_uri": "https://localhost:8080/",
          "height": 1000
        },
        "outputId": "a0e2a9a1-22ee-415e-91aa-f5f0a22425ef"
      },
      "source": [
        "start_game = make_game()\n",
        "print(\"Player 1 = X and Player 2 = O\\n\")\n",
        "#game_status = game_result(start_game)\n",
        "turn_decider = 1\n",
        "while(True):\n",
        "  if game_result(start_game) == 1:\n",
        "    draw_tic_tac_toe_updated(start_game)\n",
        "    print(\"\\nPlayer 1 has won!\")\n",
        "    break\n",
        "  elif game_result(start_game) == 2:\n",
        "    draw_tic_tac_toe_updated(start_game)\n",
        "    print(\"\\nPlayer 2 has won!\")\n",
        "    break\n",
        "  elif game_result(start_game)==0:\n",
        "    draw_tic_tac_toe_updated(start_game)\n",
        "    print(\"\\nIt's a draw!\")\n",
        "    break\n",
        "  else:\n",
        "    draw_tic_tac_toe_updated(start_game)\n",
        "    if turn_decider%2 != 0:\n",
        "      print(\"\\n\\nPlayer 1's turn\")\n",
        "      pick_location(start_game,1)\n",
        "      turn_decider=turn_decider+1\n",
        "      continue\n",
        "    else:\n",
        "      print(\"\\n\\nPlayer 2's turn\")\n",
        "      pick_location(start_game,2)\n",
        "      turn_decider=turn_decider+1\n",
        "    \n"
      ],
      "execution_count": 13,
      "outputs": [
        {
          "output_type": "stream",
          "text": [
            "Player 1 = X and Player 2 = O\n",
            "\n",
            "  1   2   3\n",
            "A   |   |   \n",
            "  ----------\n",
            "B   |   |   \n",
            "  ----------\n",
            "C   |   |   \n",
            "\n",
            "Player 1's turn\n",
            "\n",
            "Which location do you want to make your move at? e.g A1/a1 or C3/c3 etc: a1\n",
            "  1   2   3\n",
            "A  X|   |   \n",
            "  ----------\n",
            "B   |   |   \n",
            "  ----------\n",
            "C   |   |   \n",
            "\n",
            "Player 2's turn\n",
            "\n",
            "Which location do you want to make your move at? e.g A1/a1 or C3/c3 etc: b2\n",
            "  1   2   3\n",
            "A  X|   |   \n",
            "  ----------\n",
            "B   | O |   \n",
            "  ----------\n",
            "C   |   |   \n",
            "\n",
            "Player 1's turn\n",
            "\n",
            "Which location do you want to make your move at? e.g A1/a1 or C3/c3 etc: c3\n",
            "  1   2   3\n",
            "A  X|   |   \n",
            "  ----------\n",
            "B   | O |   \n",
            "  ----------\n",
            "C   |   | X \n",
            "\n",
            "Player 2's turn\n",
            "\n",
            "Which location do you want to make your move at? e.g A1/a1 or C3/c3 etc: b3\n",
            "  1   2   3\n",
            "A  X|   |   \n",
            "  ----------\n",
            "B   | O | O \n",
            "  ----------\n",
            "C   |   | X \n",
            "\n",
            "Player 1's turn\n",
            "\n",
            "Which location do you want to make your move at? e.g A1/a1 or C3/c3 etc: b1\n",
            "\n",
            "Pick an empty location.\n",
            "\n",
            "Which location do you want to make your move at? e.g A1/a1 or C3/c3 etc: b1\n",
            "  1   2   3\n",
            "A  X|   |   \n",
            "  ----------\n",
            "B  X| O | O \n",
            "  ----------\n",
            "C   |   | X \n",
            "\n",
            "Player 2's turn\n",
            "\n",
            "Which location do you want to make your move at? e.g A1/a1 or C3/c3 etc: c1\n",
            "  1   2   3\n",
            "A  X|   |   \n",
            "  ----------\n",
            "B  X| O | O \n",
            "  ----------\n",
            "C  O|   | X \n",
            "\n",
            "Player 1's turn\n",
            "\n",
            "Which location do you want to make your move at? e.g A1/a1 or C3/c3 etc: a3\n",
            "  1   2   3\n",
            "A  X|   | X \n",
            "  ----------\n",
            "B  X| O | O \n",
            "  ----------\n",
            "C  O|   | X \n",
            "\n",
            "Player 2's turn\n",
            "\n",
            "Which location do you want to make your move at? e.g A1/a1 or C3/c3 etc: a2\n",
            "  1   2   3\n",
            "A  X| O | X \n",
            "  ----------\n",
            "B  X| O | O \n",
            "  ----------\n",
            "C  O|   | X \n",
            "\n",
            "Player 1's turn\n",
            "\n",
            "Which location do you want to make your move at? e.g A1/a1 or C3/c3 etc: c2\n",
            "  1   2   3\n",
            "A  X| O | X \n",
            "  ----------\n",
            "B  X| O | O \n",
            "  ----------\n",
            "C  O| X | X \n",
            "It's a draw!\n"
          ],
          "name": "stdout"
        }
      ]
    },
    {
      "cell_type": "markdown",
      "metadata": {
        "deletable": true,
        "editable": true,
        "id": "eYNBdtf-Fw8Q",
        "colab_type": "text"
      },
      "source": [
        "*Exercise 10:* Test that your game works for 5x5 Tic Tac Toe.  "
      ]
    },
    {
      "cell_type": "code",
      "metadata": {
        "deletable": true,
        "editable": true,
        "id": "hwkY1A63Fw8Q",
        "colab_type": "code",
        "colab": {}
      },
      "source": [
        ""
      ],
      "execution_count": 0,
      "outputs": []
    },
    {
      "cell_type": "markdown",
      "metadata": {
        "deletable": true,
        "editable": true,
        "id": "wgiYe9SrFw8U",
        "colab_type": "text"
      },
      "source": [
        "*Exercise 11: (Extra Credit)* Develop a version of the game where one player is the computer. Note that you don't need to do an extensive seach for the best move. You can have the computer simply protect against loosing and otherwise try to win with straight or diagonal patterns."
      ]
    },
    {
      "cell_type": "code",
      "metadata": {
        "deletable": true,
        "editable": true,
        "id": "52lWx2q3Fw8V",
        "colab_type": "code",
        "colab": {}
      },
      "source": [
        "# Write you solution here"
      ],
      "execution_count": 0,
      "outputs": []
    },
    {
      "cell_type": "code",
      "metadata": {
        "deletable": true,
        "editable": true,
        "id": "AB2j4crNFw8c",
        "colab_type": "code",
        "colab": {}
      },
      "source": [
        "# Test your solution here"
      ],
      "execution_count": 0,
      "outputs": []
    }
  ]
}