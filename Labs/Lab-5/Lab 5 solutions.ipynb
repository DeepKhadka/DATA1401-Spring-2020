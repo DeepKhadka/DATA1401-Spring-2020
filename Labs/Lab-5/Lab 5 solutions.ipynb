{
  "nbformat": 4,
  "nbformat_minor": 0,
  "metadata": {
    "kernelspec": {
      "display_name": "Python 3",
      "language": "python",
      "name": "python3"
    },
    "language_info": {
      "codemirror_mode": {
        "name": "ipython",
        "version": 3
      },
      "file_extension": ".py",
      "mimetype": "text/x-python",
      "name": "python",
      "nbconvert_exporter": "python",
      "pygments_lexer": "ipython3",
      "version": "3.8.1"
    },
    "colab": {
      "name": "Copy of Lab-5.ipynb",
      "provenance": [],
      "collapsed_sections": []
    }
  },
  "cells": [
    {
      "cell_type": "markdown",
      "metadata": {
        "id": "75xYybbh_DLO",
        "colab_type": "text"
      },
      "source": [
        "# Lab 5- Object Oriented Programming\n",
        "\n",
        "[![Open In Colab](https://colab.research.google.com/assets/colab-badge.svg)](https://colab.research.google.com/github//afarbin/DATA1401-Spring-2020/blob/master/Labs/Lab-5/Lab-5.ipynb)\n",
        "\n",
        "For all of the exercises below, make sure you provide tests of your solutions.\n"
      ]
    },
    {
      "cell_type": "markdown",
      "metadata": {
        "id": "bvMmHsZl_DLP",
        "colab_type": "text"
      },
      "source": [
        "1. Write a \"counter\" class that can be incremented up to a specified maximum value, will print an error if an attempt is made to increment beyond that value, and allows reseting the counter. "
      ]
    },
    {
      "cell_type": "code",
      "metadata": {
        "id": "i1mdhHGN_DLQ",
        "colab_type": "code",
        "colab": {}
      },
      "source": [
        "class counter:\n",
        "    def __init__(self,max_val):\n",
        "        self.max_val=max_val\n",
        "        self.cur_val=1\n",
        "        \n",
        "    def increment(self):\n",
        "        if self.cur_val>self.max_val:\n",
        "            print(\"Max value reached.\")\n",
        "        else:\n",
        "            self.cur_val+=1\n",
        "            \n",
        "    def reset(self):\n",
        "        self.cur_val=1\n",
        "        "
      ],
      "execution_count": 0,
      "outputs": []
    },
    {
      "cell_type": "code",
      "metadata": {
        "id": "Oo7xVmT-_DLU",
        "colab_type": "code",
        "colab": {}
      },
      "source": [
        "my_counter=counter(3)"
      ],
      "execution_count": 0,
      "outputs": []
    },
    {
      "cell_type": "code",
      "metadata": {
        "id": "VOl-gWJY_DLY",
        "colab_type": "code",
        "outputId": "0a8bb47c-c858-48fe-c0c5-8528bf3488d1",
        "colab": {}
      },
      "source": [
        "my_counter.increment()\n",
        "my_counter.increment()\n",
        "my_counter.increment()\n",
        "my_counter.increment()\n",
        "my_counter.increment()"
      ],
      "execution_count": 0,
      "outputs": [
        {
          "output_type": "stream",
          "text": [
            "Max value reached.\n",
            "Max value reached.\n"
          ],
          "name": "stdout"
        }
      ]
    },
    {
      "cell_type": "code",
      "metadata": {
        "id": "qszdYwmx_DLi",
        "colab_type": "code",
        "colab": {}
      },
      "source": [
        "my_counter.cur_val=100"
      ],
      "execution_count": 0,
      "outputs": []
    },
    {
      "cell_type": "markdown",
      "metadata": {
        "id": "dpEv2a9N_DLq",
        "colab_type": "text"
      },
      "source": [
        "2. Copy and paste your solution to question 1 and modify it so that all the data held by the counter is private. Implement functions to check the value of the counter, check the maximum value, and check if the counter is at the maximum."
      ]
    },
    {
      "cell_type": "code",
      "metadata": {
        "id": "TL1_GpfK_DL4",
        "colab_type": "code",
        "colab": {}
      },
      "source": [
        "class counter:\n",
        "    def __init__(self,max_val):\n",
        "        self.__max_val=max_val\n",
        "        self.__cur_val=1\n",
        "        \n",
        "    def increment(self):\n",
        "        if self.__cur_val>self.__max_val:\n",
        "            print(\"Max value reached.\")\n",
        "        else:\n",
        "            self.__cur_val+=1\n",
        "            \n",
        "    def reset(self):\n",
        "        self.__cur_val=1\n",
        "        \n",
        "    def cur_val(self):\n",
        "        return self.__cur_val\n",
        "\n",
        "    def max_val(self):\n",
        "        return self.__max_val\n",
        "\n"
      ],
      "execution_count": 0,
      "outputs": []
    },
    {
      "cell_type": "code",
      "metadata": {
        "id": "7pbTk-ZJ_DMH",
        "colab_type": "code",
        "colab": {}
      },
      "source": [
        "my_counter=counter(3)"
      ],
      "execution_count": 0,
      "outputs": []
    },
    {
      "cell_type": "code",
      "metadata": {
        "id": "q1siMWSb_DMj",
        "colab_type": "code",
        "outputId": "58a302ed-77a0-4252-bba2-117c052eb9ec",
        "colab": {}
      },
      "source": [
        "my_counter.cur_val()"
      ],
      "execution_count": 0,
      "outputs": [
        {
          "output_type": "execute_result",
          "data": {
            "text/plain": [
              "1"
            ]
          },
          "metadata": {
            "tags": []
          },
          "execution_count": 27
        }
      ]
    },
    {
      "cell_type": "markdown",
      "metadata": {
        "id": "P3SfJm_M_DMs",
        "colab_type": "text"
      },
      "source": [
        "3. Implement a class to represent a rectangle, holding the length, width, and $x$ and $y$ coordinates of a corner of the object. Implement functions that compute the area and parameter of the rectangle. Make all data members private and privide accessors to retrieve values of data members. "
      ]
    },
    {
      "cell_type": "code",
      "metadata": {
        "id": "0fqRUhoI_DMt",
        "colab_type": "code",
        "colab": {}
      },
      "source": [
        "class rectangle:\n",
        "    def __init__(self,width,length,x,y):\n",
        "        self.__width=width\n",
        "        self.__length=length\n",
        "        self.__x=x\n",
        "        self.__y=y\n",
        "        \n",
        "    def area(self):\n",
        "        return self.__width*self.__length\n",
        "    \n",
        "    def perimeter(self):\n",
        "        return 2*(self.__width+self.__length)\n",
        "    \n",
        "    def x(self):\n",
        "        return self.__x\n",
        "\n",
        "    def y(self):\n",
        "      return self.__y\n",
        "    \n",
        "    \n",
        "\n",
        "        "
      ],
      "execution_count": 0,
      "outputs": []
    },
    {
      "cell_type": "code",
      "metadata": {
        "id": "dgRFYDnpCIJs",
        "colab_type": "code",
        "outputId": "fae90753-490a-4856-fec4-43098e414c4a",
        "colab": {
          "base_uri": "https://localhost:8080/",
          "height": 52
        }
      },
      "source": [
        "rectangleObject = rectangle(10,15,4,5)\n",
        "\n",
        "print(\"The area of the rectangle is \",rectangleObject.area())\n",
        "print(\"The perimeter of the rectangle is \",rectangleObject.perimeter())"
      ],
      "execution_count": 0,
      "outputs": [
        {
          "output_type": "stream",
          "text": [
            "The area of the rectangle is  150\n",
            "The perimeter of the rectangle is  50\n"
          ],
          "name": "stdout"
        }
      ]
    },
    {
      "cell_type": "markdown",
      "metadata": {
        "id": "RBfXq35u_DMv",
        "colab_type": "text"
      },
      "source": [
        "4. Implement a class to represent a circle, holding the radius and $x$ and $y$ coordinates of center of the object. Implement functions that compute the area and parameter of the rectangle. Make all data members private and privide accessors to retrieve values of data members. "
      ]
    },
    {
      "cell_type": "code",
      "metadata": {
        "id": "wm8encOyEByi",
        "colab_type": "code",
        "colab": {}
      },
      "source": [
        "import math\n",
        "class circle:\n",
        "  def __init__(self,r,x,y):\n",
        "    self.__r = r\n",
        "    self.__x = x\n",
        "    self.__y = y\n",
        "\n",
        "  def calc_circumference(self):\n",
        "      return (2*math.pi*self.__r)\n",
        "\n",
        "  def calc_area(self):\n",
        "      return (math.pi*pow(self.__r,2))\n",
        "\n",
        "  def x(self):\n",
        "      return self.__x\n",
        "\n",
        "  def y(self):\n",
        "      return self.__y"
      ],
      "execution_count": 0,
      "outputs": []
    },
    {
      "cell_type": "code",
      "metadata": {
        "id": "0nz3YYCVFQIF",
        "colab_type": "code",
        "outputId": "ed40558c-f2da-4de5-ad03-64ac3b78f455",
        "colab": {
          "base_uri": "https://localhost:8080/",
          "height": 52
        }
      },
      "source": [
        "circleObject = circle(5,5,5)\n",
        "\n",
        "print(\"The area of the circle is \",circleObject.calc_area())\n",
        "print(\"The circumference of the circle is \",circleObject.calc_circumference())"
      ],
      "execution_count": 0,
      "outputs": [
        {
          "output_type": "stream",
          "text": [
            "The area of the circle is  78.53981633974483\n",
            "The circumference of the circle is  31.41592653589793\n"
          ],
          "name": "stdout"
        }
      ]
    },
    {
      "cell_type": "markdown",
      "metadata": {
        "id": "2qLllVHj_DMw",
        "colab_type": "text"
      },
      "source": [
        "5. Implement a common base class for the classes implemented in 3 and 4 above which implements all common methods as dummy functions. Re-implement those classes to inherit from the base class and overload the functions accordingly. "
      ]
    },
    {
      "cell_type": "code",
      "metadata": {
        "id": "FloxviDdGfCW",
        "colab_type": "code",
        "colab": {}
      },
      "source": [
        "class shape:\n",
        "    def __init__(self,width,length,x=0,y=0):\n",
        "        self.__width=width\n",
        "        self.__length=length\n",
        "        self.__x=x\n",
        "        self.__y=y\n",
        "        \n",
        "    def area(self):\n",
        "        return self.__width*self.__length\n",
        "    \n",
        "    def perimeter(self):\n",
        "        return 2*(self.__width+self.__length)\n",
        "    \n",
        "    def x(self):\n",
        "        return self.__x\n",
        "\n",
        "    def y(self):\n",
        "        return self.__y\n",
        "\n",
        "class rectangle(shape):\n",
        "  def __init__(self,width,length,x,y):\n",
        "    super(rectangle,self).__init__(width,length,x,y)\n",
        "\n",
        "\n",
        "class circle(shape):\n",
        "  def __init__(self,r,x,y):\n",
        "    super(circle,self).__init__(x,y)\n",
        "    self.r = r\n",
        "\n",
        "  def area(self):\n",
        "        return math.pi*pow(self.r,2)\n",
        "    \n",
        "  def perimeter(self):\n",
        "        return 2*math.pi*self.r\n",
        "\n"
      ],
      "execution_count": 0,
      "outputs": []
    },
    {
      "cell_type": "code",
      "metadata": {
        "id": "EJpN5EDxJcwY",
        "colab_type": "code",
        "outputId": "c49783ea-cf25-4037-fc9c-d34825b28544",
        "colab": {
          "base_uri": "https://localhost:8080/",
          "height": 87
        }
      },
      "source": [
        "rectangleObj = rectangle(10,15,4,5)\n",
        "\n",
        "print(\"The area of the rectangle is \",rectangleObj.area())\n",
        "print(\"The perimeter of the rectangle is \",rectangleObj.perimeter())\n",
        "\n",
        "circleObj = circle(5,5,5)\n",
        "\n",
        "print(\"The area of the circle is \",circleObj.area())\n",
        "print(\"The circumference of the circle is \",circleObj.perimeter())\n",
        "\n"
      ],
      "execution_count": 0,
      "outputs": [
        {
          "output_type": "stream",
          "text": [
            "The area of the rectangle is  150\n",
            "The perimeter of the rectangle is  50\n",
            "The area of the circle is  78.53981633974483\n",
            "The circumference of the circle is  31.41592653589793\n"
          ],
          "name": "stdout"
        }
      ]
    },
    {
      "cell_type": "markdown",
      "metadata": {
        "id": "suu3w9Qg_DMw",
        "colab_type": "text"
      },
      "source": [
        "6. Implement an analogous triangle class."
      ]
    },
    {
      "cell_type": "code",
      "metadata": {
        "id": "dzK8qQKnK_Lj",
        "colab_type": "code",
        "colab": {}
      },
      "source": [
        "class triangle(shape):\n",
        "  def __init__(self,base,height,firstSide,secondSide,x,y):\n",
        "    super(triangle,self).__init__(x,y)\n",
        "    self.__b=base\n",
        "    self.__h=height\n",
        "    self.__s1=firstSide\n",
        "    self.__s2=secondSide\n",
        "\n",
        "  def area(self):\n",
        "    return (1/2)*(self.__b)*(self.__h)\n",
        "\n",
        "  def perimeter(self):\n",
        "    return (self.__s1+self.__s2+self.__b)\n"
      ],
      "execution_count": 0,
      "outputs": []
    },
    {
      "cell_type": "code",
      "metadata": {
        "id": "YqvMhlEhMU06",
        "colab_type": "code",
        "outputId": "610b0feb-da38-4c04-9976-3af4220e551a",
        "colab": {
          "base_uri": "https://localhost:8080/",
          "height": 52
        }
      },
      "source": [
        "triangleObj = triangle(10,15,12,12,5,5)\n",
        "\n",
        "print(\"The area of the rectangle is \",triangleObj.area())\n",
        "print(\"The perimeter of the rectangle is \",triangleObj.perimeter())\n"
      ],
      "execution_count": 0,
      "outputs": [
        {
          "output_type": "stream",
          "text": [
            "The area of the rectangle is  75.0\n",
            "The perimeter of the rectangle is  34\n"
          ],
          "name": "stdout"
        }
      ]
    },
    {
      "cell_type": "markdown",
      "metadata": {
        "id": "5oFc9Brf_DMx",
        "colab_type": "text"
      },
      "source": [
        "7. Add a function to the object classes that test if a given set of $x$ and $y$ coordinates are inside of the object."
      ]
    },
    {
      "cell_type": "code",
      "metadata": {
        "id": "TlYD1C7eNa2A",
        "colab_type": "code",
        "colab": {}
      },
      "source": [
        "class shape:\n",
        "    def __init__(self,cx,cy,x1=0,y1=0,x2=3,y2=5):\n",
        "        self.cx=cx\n",
        "        self.cy=cy\n",
        "        self.x1=x1\n",
        "        self.y1=y1\n",
        "        self.x2=x2\n",
        "        self.y2=y2\n",
        "        length = self.y2 - self.y1\n",
        "        width = self.x2 - self.x1\n",
        "\n",
        "        \n",
        "    def area(self):\n",
        "        return self.width*self.length\n",
        "    \n",
        "    def perimeter(self):\n",
        "        return 2*(width+length)\n",
        "    \n",
        "    def inside(self,x,y):\n",
        "      if (x >self.x1 and x<self.x2 and y>self.y1 and y<self.y2):\n",
        "        return True\n",
        "      else:\n",
        "        return False\n",
        "\n",
        "class rectangle(shape):\n",
        "  def __init__(self,x1,y1,x2,y2):\n",
        "    super(rectangle,self).__init__(x1,y1,x2,y2)\n",
        "\n",
        "\n",
        "class circle(shape):\n",
        "  def __init__(self,cx,cy,r):\n",
        "    super(circle,self).__init__(cx,cy)\n",
        "    self.r = r\n",
        "\n",
        "  def area(self):\n",
        "        return math.pi*pow(self.r,2)\n",
        "    \n",
        "  def perimeter(self):\n",
        "        return 2*math.pi*self.r\n",
        "\n",
        "  def inside(self,x,y):\n",
        "    if(pow((x - self.cx),2) + pow((y - self.cy),2) <= pow(self.r,2)):\n",
        "      return True\n",
        "    else:\n",
        "      return False\n",
        "\n",
        "\n"
      ],
      "execution_count": 0,
      "outputs": []
    },
    {
      "cell_type": "code",
      "metadata": {
        "id": "kGkRwyfc7T6V",
        "colab_type": "code",
        "colab": {}
      },
      "source": [
        ""
      ],
      "execution_count": 0,
      "outputs": []
    },
    {
      "cell_type": "markdown",
      "metadata": {
        "id": "gb9vX_hh_DMx",
        "colab_type": "text"
      },
      "source": [
        "8. Add a function to the object classes that return a list of up to 16 pairs of  $x$ and $y$ points on the parameter of the object.\n",
        "\n"
      ]
    },
    {
      "cell_type": "markdown",
      "metadata": {
        "id": "w8Xuq6r8_DMy",
        "colab_type": "text"
      },
      "source": [
        "9. Add a function in the base class of the object classes that returns true/false testing that the object overlaps with another object."
      ]
    }
  ]
}